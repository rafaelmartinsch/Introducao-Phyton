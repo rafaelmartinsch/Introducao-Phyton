{
  "nbformat": 4,
  "nbformat_minor": 5,
  "metadata": {
    "kernelspec": {
      "display_name": "Python 3",
      "language": "python",
      "name": "python3"
    },
    "language_info": {
      "codemirror_mode": {
        "name": "ipython",
        "version": 3
      },
      "file_extension": ".py",
      "mimetype": "text/x-python",
      "name": "python",
      "nbconvert_exporter": "python",
      "pygments_lexer": "ipython3",
      "version": "3.9.5"
    },
    "colab": {
      "name": "Aula 1 - Programação sequêncial.ipynb",
      "provenance": [],
      "include_colab_link": true
    }
  },
  "cells": [
    {
      "cell_type": "markdown",
      "metadata": {
        "id": "view-in-github",
        "colab_type": "text"
      },
      "source": [
        "<a href=\"https://colab.research.google.com/github/rafaelmartinsch/Introducao-Phyton/blob/main/1-Programa%C3%A7%C3%A3o_sequ%C3%AAncial.ipynb\" target=\"_parent\"><img src=\"https://colab.research.google.com/assets/colab-badge.svg\" alt=\"Open In Colab\"/></a>"
      ]
    },
    {
      "cell_type": "markdown",
      "source": [
        "<h1>\n",
        "    Aula 1: Introdução a linguagem\n",
        "</h1>\n",
        "<p>Nessa aula você irá aprender:<br>\n",
        "<li>Tipos de dados</li>\n",
        "<li>Entrada de dados</li>\n",
        "<li>Operações matemáticas</li>\n",
        "\n",
        "</p>\n"
      ],
      "metadata": {
        "id": "jPLJFVTNcXde"
      },
      "id": "jPLJFVTNcXde"
    },
    {
      "cell_type": "code",
      "execution_count": null,
      "source": [
        "# Isso é um comentário de uma linha\n",
        "'''\n",
        "Isso é um comentário de múltiplas linhas\n",
        "'''\n",
        "\n",
        "print(\"Hello World\")\n",
        "print('Olá mundo')"
      ],
      "outputs": [],
      "metadata": {
        "id": "p6g3MXB1cL9z"
      },
      "id": "p6g3MXB1cL9z"
    },
    {
      "cell_type": "code",
      "execution_count": null,
      "source": [
        "# Abaixo estão os exemplos de tipos de dados\n",
        "# @markdown > <h2>Tipos de dados buit-in: </h2><li> <b>String &lt;str&gt;: </b> para cadeias de caracteres;</li><li> <b>Inteiro &lt;int&gt;: </b> para números inteiros;</li><li> <b>Float&lt;float&gt;: </b> para números decimais;</li><li> <b>Boolean&lt;bool&gt;: </b> para verdadeiro/falso;</li><li> <b>Listas&lt;list&gt;: </b> para agrupar elementos;</li><li> <b>Dicionários&lt;dict&gt;: </b> para agrupar elementos que serão recuperados por uma chave;</li><a href=\"https://docs.python.org/pt-br/3/reference/datamodel.html#objects-values-and-types\">Mais informações</a>\n",
        "print(type(1))           # int\n",
        "print(type(1.5))         # float\n",
        "print(type(\"Meu nome\"))  # str\n",
        "print(type(True))       # bool\n",
        "print(type([1, 2, 3]))          # list\n",
        "print(type({\"Nome\": \"Lucas\"}))          # dict"
      ],
      "outputs": [],
      "metadata": {
        "id": "rocky-portable"
      },
      "id": "rocky-portable"
    },
    {
      "cell_type": "code",
      "execution_count": null,
      "source": [
        "n = int(input(\"Digite um número: \"))"
      ],
      "outputs": [],
      "metadata": {
        "id": "yDqBAoXOaz8Q"
      },
      "id": "yDqBAoXOaz8Q"
    },
    {
      "cell_type": "code",
      "execution_count": null,
      "source": [
        "f\"O número digitado foi {n:.10f}\""
      ],
      "outputs": [],
      "metadata": {
        "id": "SRHRj4eca8UH"
      },
      "id": "SRHRj4eca8UH"
    },
    {
      "cell_type": "code",
      "execution_count": null,
      "source": [
        "# @markdown > <h2>Entrada de dados:</h2><p> O comando para pedir uma entrada de dados em Python é: <b>input(<i>mensagem</i>)</b> <br /></p><p> Esse comando retornará uma string. Você pode converter o valor recebido em outro tipo de dados usando uma das seguintes funções: <li> <code>int(input(<i>mensagem</i>)):</code> Converte a entrada em un número inteiro; </li> <li> <code>float(input(<i>mensagem</i>)):</code> Converte a entrada em um número inteiro; </li> Para atribuir um valor à uma variável, basta criá-la da seguinte maneira: <li> <code>nome_da_variavel = valor</code> </li> Onde o nome deve ser um string que começa com uma letra, pode conter números e letras maiúsculas e minúsculas e \"_\".</p><a href=\"https://docs.python.org/3/library/functions.html\" >Mais informações</a>\n",
        "\n",
        "#nome = input(\"Digite seu nome: \")\n",
        "#idade = int(input(\"Digite sua idade: \"))\n",
        "#altura = float(input(\"Digite sua altura: \"))\n",
        "\n",
        "print(f\"Nome: {nome}\")\n",
        "print(f\"Idade: {idade} anos\")\n",
        "print(f\"Altura: {altura:.0f} metros\")\n"
      ],
      "outputs": [],
      "metadata": {
        "id": "above-senator"
      },
      "id": "above-senator"
    },
    {
      "cell_type": "code",
      "execution_count": null,
      "source": [
        "a = 5\n",
        "b = 6\n",
        "print(f\"A multiplicação de {a} por {b} é {a*b}\")"
      ],
      "outputs": [],
      "metadata": {
        "id": "MOg-_orXcVUi"
      },
      "id": "MOg-_orXcVUi"
    },
    {
      "cell_type": "code",
      "execution_count": null,
      "source": [
        "# @markdown > <h2>Operações matemáticas:</h2><table> <thead> <tr> <th><p>Operação</p></th> <th><p>Sintaxe</p></th> </tr> </thead> <tbody> <tr> <td>Adição</td> <td> <code>a + b</code> </td> </tr> <tr> <td>Subtração</td> <td> <code>a - b</code> </td> </tr> <tr> <td>Multiplicação</td> <td> <code>a * b</code> </td> </tr> <tr> <td>Divisão</td> <td> <code>a / b</code> </td> </tr> <tr> <td>Resto da divisão</td> <td> <code>a % b</code> </td> </tr> <tr> <td>Potênciação</td> <td> <code>a ** b</code> </td> </tr> <tr> <td>Parte inteira da divisão</td> <td> <code>a // b</code> </td> </tr> </tbody></table><br><a href=\"https://docs.python.org/pt-br/3/library/operator.html?highlight=operators#mapping-operators-to-functions\" >Mais informações</a>\n",
        "\n",
        "print(1 + 1)\n",
        "print(1 - 1)\n",
        "print(2 * 3)\n",
        "print(1 / 2)\n",
        "print(8 % 2)\n",
        "print(2 ** 4)\n",
        "print(3 // 2)\n"
      ],
      "outputs": [],
      "metadata": {
        "id": "moved-northeast"
      },
      "id": "moved-northeast"
    },
    {
      "cell_type": "code",
      "execution_count": null,
      "source": [
        "# Exercício 1:\n",
        "# Escreva um script que receba o nome, idade e altura de uma pessoa e logo em\n",
        "# seguida printa esses dados na tela\n"
      ],
      "outputs": [],
      "metadata": {
        "id": "o7-x_0nC8gSb"
      },
      "id": "o7-x_0nC8gSb"
    },
    {
      "cell_type": "code",
      "execution_count": null,
      "source": [
        "# Exercício 2:\n",
        "# Escreva um código que receba a distância percorrida e o tempo gasto e calcule\n",
        "# qual foi a velocidade média do trajeto.\n",
        "\n"
      ],
      "outputs": [],
      "metadata": {
        "id": "PPlU-AxkFvPd"
      },
      "id": "PPlU-AxkFvPd"
    },
    {
      "cell_type": "code",
      "execution_count": null,
      "source": [
        "# Exercício 3:\n",
        "# Escreva um código que receba o nome de um vendedor, seu salário fixo e o total\n",
        "# de vendas que ele efetuou no mês. Retorne o salário final do vendedor sabendo\n",
        "# que ele ganha 15% de comissão sobre as vendas que efetuou.\n"
      ],
      "outputs": [],
      "metadata": {
        "id": "mIDQ9ioMGJCI"
      },
      "id": "mIDQ9ioMGJCI"
    }
  ]
}